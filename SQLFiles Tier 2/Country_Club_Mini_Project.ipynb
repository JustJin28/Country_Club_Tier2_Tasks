{
 "cells": [
  {
   "cell_type": "code",
   "execution_count": 18,
   "id": "df99d3a6",
   "metadata": {},
   "outputs": [],
   "source": [
    "import sqlite3\n",
    "\n",
    "conn = sqlite3.connect('sqlite_db_pythonsqlite.db')"
   ]
  },
  {
   "cell_type": "code",
   "execution_count": 19,
   "id": "d77b5165",
   "metadata": {},
   "outputs": [],
   "source": [
    "import pandas as pd"
   ]
  },
  {
   "cell_type": "code",
   "execution_count": 23,
   "id": "a9c6fcdc",
   "metadata": {
    "scrolled": false
   },
   "outputs": [
    {
     "data": {
      "text/html": [
       "<div>\n",
       "<style scoped>\n",
       "    .dataframe tbody tr th:only-of-type {\n",
       "        vertical-align: middle;\n",
       "    }\n",
       "\n",
       "    .dataframe tbody tr th {\n",
       "        vertical-align: top;\n",
       "    }\n",
       "\n",
       "    .dataframe thead th {\n",
       "        text-align: right;\n",
       "    }\n",
       "</style>\n",
       "<table border=\"1\" class=\"dataframe\">\n",
       "  <thead>\n",
       "    <tr style=\"text-align: right;\">\n",
       "      <th></th>\n",
       "      <th>facid</th>\n",
       "      <th>name</th>\n",
       "      <th>membercost</th>\n",
       "      <th>guestcost</th>\n",
       "      <th>initialoutlay</th>\n",
       "      <th>monthlymaintenance</th>\n",
       "    </tr>\n",
       "  </thead>\n",
       "  <tbody>\n",
       "    <tr>\n",
       "      <th>0</th>\n",
       "      <td>0</td>\n",
       "      <td>Tennis Court 1</td>\n",
       "      <td>5.0</td>\n",
       "      <td>25.0</td>\n",
       "      <td>10000</td>\n",
       "      <td>200</td>\n",
       "    </tr>\n",
       "    <tr>\n",
       "      <th>1</th>\n",
       "      <td>1</td>\n",
       "      <td>Tennis Court 2</td>\n",
       "      <td>5.0</td>\n",
       "      <td>25.0</td>\n",
       "      <td>8000</td>\n",
       "      <td>200</td>\n",
       "    </tr>\n",
       "    <tr>\n",
       "      <th>2</th>\n",
       "      <td>2</td>\n",
       "      <td>Badminton Court</td>\n",
       "      <td>0.0</td>\n",
       "      <td>15.5</td>\n",
       "      <td>4000</td>\n",
       "      <td>50</td>\n",
       "    </tr>\n",
       "    <tr>\n",
       "      <th>3</th>\n",
       "      <td>3</td>\n",
       "      <td>Table Tennis</td>\n",
       "      <td>0.0</td>\n",
       "      <td>5.0</td>\n",
       "      <td>320</td>\n",
       "      <td>10</td>\n",
       "    </tr>\n",
       "    <tr>\n",
       "      <th>4</th>\n",
       "      <td>4</td>\n",
       "      <td>Massage Room 1</td>\n",
       "      <td>9.9</td>\n",
       "      <td>80.0</td>\n",
       "      <td>4000</td>\n",
       "      <td>3000</td>\n",
       "    </tr>\n",
       "  </tbody>\n",
       "</table>\n",
       "</div>"
      ],
      "text/plain": [
       "   facid             name  membercost  guestcost  initialoutlay  \\\n",
       "0      0   Tennis Court 1         5.0       25.0          10000   \n",
       "1      1   Tennis Court 2         5.0       25.0           8000   \n",
       "2      2  Badminton Court         0.0       15.5           4000   \n",
       "3      3     Table Tennis         0.0        5.0            320   \n",
       "4      4   Massage Room 1         9.9       80.0           4000   \n",
       "\n",
       "   monthlymaintenance  \n",
       "0                 200  \n",
       "1                 200  \n",
       "2                  50  \n",
       "3                  10  \n",
       "4                3000  "
      ]
     },
     "execution_count": 23,
     "metadata": {},
     "output_type": "execute_result"
    }
   ],
   "source": [
    "query = 'SELECT * FROM Facilities'\n",
    "df = pd.read_sql_query(query,conn)\n",
    "df.head()"
   ]
  },
  {
   "cell_type": "code",
   "execution_count": null,
   "id": "aece0d85",
   "metadata": {},
   "outputs": [],
   "source": [
    "#Produce a list of facilities with a total revenue less than 1000.\n",
    "#The output of facility name and total revenue, sorted by revenue. Remember\n",
    "#that there's a different cost for guests and members!"
   ]
  },
  {
   "cell_type": "code",
   "execution_count": 30,
   "id": "dca38347",
   "metadata": {},
   "outputs": [],
   "source": [
    "query10 = 'SELECT Facilities.name, SUM(CASE WHEN Bookings.memid = 0 THEN Bookings.slots*Facilities.guestcost ELSE Bookings.slots * Facilities.membercost END) AS total_revenue FROM Facilities JOIN Bookings ON Facilities.facid = Bookings.facid GROUP BY Facilities.name HAVING total_revenue < 1000 ORDER BY total_revenue;'\n",
    "\n",
    "df10 = pd.read_sql_query(query10, conn)"
   ]
  },
  {
   "cell_type": "code",
   "execution_count": 40,
   "id": "64d0922f",
   "metadata": {
    "scrolled": true
   },
   "outputs": [
    {
     "data": {
      "text/html": [
       "<div>\n",
       "<style scoped>\n",
       "    .dataframe tbody tr th:only-of-type {\n",
       "        vertical-align: middle;\n",
       "    }\n",
       "\n",
       "    .dataframe tbody tr th {\n",
       "        vertical-align: top;\n",
       "    }\n",
       "\n",
       "    .dataframe thead th {\n",
       "        text-align: right;\n",
       "    }\n",
       "</style>\n",
       "<table border=\"1\" class=\"dataframe\">\n",
       "  <thead>\n",
       "    <tr style=\"text-align: right;\">\n",
       "      <th></th>\n",
       "      <th>member_name</th>\n",
       "      <th>recommender_name</th>\n",
       "    </tr>\n",
       "  </thead>\n",
       "  <tbody>\n",
       "    <tr>\n",
       "      <th>0</th>\n",
       "      <td>Bader, Florence</td>\n",
       "      <td>Stibbons,Ponder</td>\n",
       "    </tr>\n",
       "    <tr>\n",
       "      <th>1</th>\n",
       "      <td>Baker, Anne</td>\n",
       "      <td>Stibbons,Ponder</td>\n",
       "    </tr>\n",
       "    <tr>\n",
       "      <th>2</th>\n",
       "      <td>Baker, Timothy</td>\n",
       "      <td>Farrell,Jemima</td>\n",
       "    </tr>\n",
       "    <tr>\n",
       "      <th>3</th>\n",
       "      <td>Boothe, Tim</td>\n",
       "      <td>Rownam,Tim</td>\n",
       "    </tr>\n",
       "    <tr>\n",
       "      <th>4</th>\n",
       "      <td>Butters, Gerald</td>\n",
       "      <td>Smith,Darren</td>\n",
       "    </tr>\n",
       "  </tbody>\n",
       "</table>\n",
       "</div>"
      ],
      "text/plain": [
       "       member_name recommender_name\n",
       "0  Bader, Florence  Stibbons,Ponder\n",
       "1      Baker, Anne  Stibbons,Ponder\n",
       "2   Baker, Timothy   Farrell,Jemima\n",
       "3      Boothe, Tim       Rownam,Tim\n",
       "4  Butters, Gerald     Smith,Darren"
      ]
     },
     "execution_count": 40,
     "metadata": {},
     "output_type": "execute_result"
    }
   ],
   "source": [
    "df10.head()"
   ]
  },
  {
   "cell_type": "code",
   "execution_count": 38,
   "id": "6c581b19",
   "metadata": {},
   "outputs": [],
   "source": [
    "#Q11: Produce a report of members and who recommended them in alphabetic surname,firstname order"
   ]
  },
  {
   "cell_type": "code",
   "execution_count": 35,
   "id": "c2ea8e59",
   "metadata": {},
   "outputs": [],
   "source": [
    "query_M = 'SELECT Member1.surname ||\", \"|| Member1.firstname AS member_name, Member2.surname ||\",\"|| Member2.firstname AS recommender_name FROM Members Member1 LEFT JOIN Members Member2 ON Member1.recommendedby = Member2.memid ORDER BY Member1.surname, Member1.firstname'"
   ]
  },
  {
   "cell_type": "code",
   "execution_count": 36,
   "id": "dab424df",
   "metadata": {},
   "outputs": [],
   "source": [
    "df_M = pd.read_sql_query(query_M, conn)"
   ]
  },
  {
   "cell_type": "code",
   "execution_count": 37,
   "id": "7e2ea29a",
   "metadata": {},
   "outputs": [
    {
     "data": {
      "text/html": [
       "<div>\n",
       "<style scoped>\n",
       "    .dataframe tbody tr th:only-of-type {\n",
       "        vertical-align: middle;\n",
       "    }\n",
       "\n",
       "    .dataframe tbody tr th {\n",
       "        vertical-align: top;\n",
       "    }\n",
       "\n",
       "    .dataframe thead th {\n",
       "        text-align: right;\n",
       "    }\n",
       "</style>\n",
       "<table border=\"1\" class=\"dataframe\">\n",
       "  <thead>\n",
       "    <tr style=\"text-align: right;\">\n",
       "      <th></th>\n",
       "      <th>member_name</th>\n",
       "      <th>recommender_name</th>\n",
       "    </tr>\n",
       "  </thead>\n",
       "  <tbody>\n",
       "    <tr>\n",
       "      <th>0</th>\n",
       "      <td>Bader, Florence</td>\n",
       "      <td>Stibbons,Ponder</td>\n",
       "    </tr>\n",
       "    <tr>\n",
       "      <th>1</th>\n",
       "      <td>Baker, Anne</td>\n",
       "      <td>Stibbons,Ponder</td>\n",
       "    </tr>\n",
       "    <tr>\n",
       "      <th>2</th>\n",
       "      <td>Baker, Timothy</td>\n",
       "      <td>Farrell,Jemima</td>\n",
       "    </tr>\n",
       "    <tr>\n",
       "      <th>3</th>\n",
       "      <td>Boothe, Tim</td>\n",
       "      <td>Rownam,Tim</td>\n",
       "    </tr>\n",
       "    <tr>\n",
       "      <th>4</th>\n",
       "      <td>Butters, Gerald</td>\n",
       "      <td>Smith,Darren</td>\n",
       "    </tr>\n",
       "  </tbody>\n",
       "</table>\n",
       "</div>"
      ],
      "text/plain": [
       "       member_name recommender_name\n",
       "0  Bader, Florence  Stibbons,Ponder\n",
       "1      Baker, Anne  Stibbons,Ponder\n",
       "2   Baker, Timothy   Farrell,Jemima\n",
       "3      Boothe, Tim       Rownam,Tim\n",
       "4  Butters, Gerald     Smith,Darren"
      ]
     },
     "execution_count": 37,
     "metadata": {},
     "output_type": "execute_result"
    }
   ],
   "source": [
    "df_M.head()"
   ]
  },
  {
   "cell_type": "code",
   "execution_count": 39,
   "id": "ac32c53d",
   "metadata": {},
   "outputs": [],
   "source": [
    "#Find the facilities with their usage by member, but not guests"
   ]
  },
  {
   "cell_type": "code",
   "execution_count": 42,
   "id": "dfe09214",
   "metadata": {},
   "outputs": [],
   "source": [
    "query_U = 'SELECT Facilities.name AS facility_name, COUNT(Bookings.bookid) AS member_usage FROM Facilities JOIN Bookings ON Facilities.facid = Bookings.facid WHERE Bookings.memid != 0 GROUP BY Facilities.name ORDER BY member_usage DESC;'"
   ]
  },
  {
   "cell_type": "code",
   "execution_count": 43,
   "id": "5b67b4ea",
   "metadata": {},
   "outputs": [],
   "source": [
    "df_U = pd.read_sql_query(query_U, conn)"
   ]
  },
  {
   "cell_type": "code",
   "execution_count": 44,
   "id": "86cc3477",
   "metadata": {},
   "outputs": [
    {
     "data": {
      "text/html": [
       "<div>\n",
       "<style scoped>\n",
       "    .dataframe tbody tr th:only-of-type {\n",
       "        vertical-align: middle;\n",
       "    }\n",
       "\n",
       "    .dataframe tbody tr th {\n",
       "        vertical-align: top;\n",
       "    }\n",
       "\n",
       "    .dataframe thead th {\n",
       "        text-align: right;\n",
       "    }\n",
       "</style>\n",
       "<table border=\"1\" class=\"dataframe\">\n",
       "  <thead>\n",
       "    <tr style=\"text-align: right;\">\n",
       "      <th></th>\n",
       "      <th>facility_name</th>\n",
       "      <th>member_usage</th>\n",
       "    </tr>\n",
       "  </thead>\n",
       "  <tbody>\n",
       "    <tr>\n",
       "      <th>0</th>\n",
       "      <td>Pool Table</td>\n",
       "      <td>783</td>\n",
       "    </tr>\n",
       "    <tr>\n",
       "      <th>1</th>\n",
       "      <td>Snooker Table</td>\n",
       "      <td>421</td>\n",
       "    </tr>\n",
       "    <tr>\n",
       "      <th>2</th>\n",
       "      <td>Massage Room 1</td>\n",
       "      <td>421</td>\n",
       "    </tr>\n",
       "    <tr>\n",
       "      <th>3</th>\n",
       "      <td>Table Tennis</td>\n",
       "      <td>385</td>\n",
       "    </tr>\n",
       "    <tr>\n",
       "      <th>4</th>\n",
       "      <td>Badminton Court</td>\n",
       "      <td>344</td>\n",
       "    </tr>\n",
       "  </tbody>\n",
       "</table>\n",
       "</div>"
      ],
      "text/plain": [
       "     facility_name  member_usage\n",
       "0       Pool Table           783\n",
       "1    Snooker Table           421\n",
       "2   Massage Room 1           421\n",
       "3     Table Tennis           385\n",
       "4  Badminton Court           344"
      ]
     },
     "execution_count": 44,
     "metadata": {},
     "output_type": "execute_result"
    }
   ],
   "source": [
    "df_U.head()"
   ]
  },
  {
   "cell_type": "code",
   "execution_count": 45,
   "id": "87689793",
   "metadata": {},
   "outputs": [],
   "source": [
    "#Find the facilities usage by month, but not guests"
   ]
  },
  {
   "cell_type": "code",
   "execution_count": 58,
   "id": "abfc7ef1",
   "metadata": {},
   "outputs": [],
   "source": [
    "query_USE = 'SELECT Facilities.name AS facility_name, strftime(\"%Y-%m\", Bookings.starttime) AS month, COUNT(Bookings.bookid) AS usage_count FROM Facilities JOIN Bookings ON Facilities.facid = Bookings.facid WHERE Bookings.memid != 0 GROUP BY Facilities.name ORDER BY month;'"
   ]
  },
  {
   "cell_type": "code",
   "execution_count": 59,
   "id": "42e693e4",
   "metadata": {},
   "outputs": [],
   "source": [
    "df_USE = pd.read_sql_query(query_USE, conn)"
   ]
  },
  {
   "cell_type": "code",
   "execution_count": 60,
   "id": "e4909a6f",
   "metadata": {},
   "outputs": [
    {
     "data": {
      "text/html": [
       "<div>\n",
       "<style scoped>\n",
       "    .dataframe tbody tr th:only-of-type {\n",
       "        vertical-align: middle;\n",
       "    }\n",
       "\n",
       "    .dataframe tbody tr th {\n",
       "        vertical-align: top;\n",
       "    }\n",
       "\n",
       "    .dataframe thead th {\n",
       "        text-align: right;\n",
       "    }\n",
       "</style>\n",
       "<table border=\"1\" class=\"dataframe\">\n",
       "  <thead>\n",
       "    <tr style=\"text-align: right;\">\n",
       "      <th></th>\n",
       "      <th>facility_name</th>\n",
       "      <th>month</th>\n",
       "      <th>usage_count</th>\n",
       "    </tr>\n",
       "  </thead>\n",
       "  <tbody>\n",
       "    <tr>\n",
       "      <th>0</th>\n",
       "      <td>Badminton Court</td>\n",
       "      <td>2012-07</td>\n",
       "      <td>344</td>\n",
       "    </tr>\n",
       "    <tr>\n",
       "      <th>1</th>\n",
       "      <td>Massage Room 1</td>\n",
       "      <td>2012-07</td>\n",
       "      <td>421</td>\n",
       "    </tr>\n",
       "    <tr>\n",
       "      <th>2</th>\n",
       "      <td>Massage Room 2</td>\n",
       "      <td>2012-07</td>\n",
       "      <td>27</td>\n",
       "    </tr>\n",
       "    <tr>\n",
       "      <th>3</th>\n",
       "      <td>Pool Table</td>\n",
       "      <td>2012-07</td>\n",
       "      <td>783</td>\n",
       "    </tr>\n",
       "    <tr>\n",
       "      <th>4</th>\n",
       "      <td>Snooker Table</td>\n",
       "      <td>2012-07</td>\n",
       "      <td>421</td>\n",
       "    </tr>\n",
       "  </tbody>\n",
       "</table>\n",
       "</div>"
      ],
      "text/plain": [
       "     facility_name    month  usage_count\n",
       "0  Badminton Court  2012-07          344\n",
       "1   Massage Room 1  2012-07          421\n",
       "2   Massage Room 2  2012-07           27\n",
       "3       Pool Table  2012-07          783\n",
       "4    Snooker Table  2012-07          421"
      ]
     },
     "execution_count": 60,
     "metadata": {},
     "output_type": "execute_result"
    }
   ],
   "source": [
    "df_USE.head()"
   ]
  },
  {
   "cell_type": "code",
   "execution_count": null,
   "id": "0741c31d",
   "metadata": {},
   "outputs": [],
   "source": []
  }
 ],
 "metadata": {
  "kernelspec": {
   "display_name": "Python 3 (ipykernel)",
   "language": "python",
   "name": "python3"
  },
  "language_info": {
   "codemirror_mode": {
    "name": "ipython",
    "version": 3
   },
   "file_extension": ".py",
   "mimetype": "text/x-python",
   "name": "python",
   "nbconvert_exporter": "python",
   "pygments_lexer": "ipython3",
   "version": "3.11.5"
  }
 },
 "nbformat": 4,
 "nbformat_minor": 5
}
